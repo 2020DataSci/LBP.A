{
 "cells": [
  {
   "cell_type": "markdown",
   "metadata": {},
   "source": [
    "# Data Cleaning"
   ]
  },
  {
   "cell_type": "markdown",
   "metadata": {},
   "source": [
    "After we have collected and scraped all the data from the two websites, we wil then have to clean the data based on the types of lyrics each song contains. After converting all the columns to their respective types, we wil then remove all songs that are:\n",
    "1. Instrumentals\n",
    "2. Non-english speaking songs (if they are majority non english)\n",
    "\n",
    "First, we'll import the packages we'll be using for this notebook. Then, let's load all the songs from the data csv files."
   ]
  },
  {
   "cell_type": "code",
   "execution_count": 1,
   "metadata": {},
   "outputs": [
    {
     "name": "stdout",
     "output_type": "stream",
     "text": [
      "Collecting package metadata (current_repodata.json): ...working... done\n",
      "Solving environment: ...working... failed with initial frozen solve. Retrying with flexible solve.\n",
      "Collecting package metadata (repodata.json): ...working... done\n",
      "Solving environment: ...working... failed with initial frozen solve. Retrying with flexible solve.\n",
      "\n",
      "Note: you may need to restart the kernel to use updated packages.\n"
     ]
    },
    {
     "name": "stderr",
     "output_type": "stream",
     "text": [
      "\n",
      "PackagesNotFoundError: The following packages are not available from current channels:\n",
      "\n",
      "  - langdetect\n",
      "\n",
      "Current channels:\n",
      "\n",
      "  - https://repo.anaconda.com/pkgs/main/win-64\n",
      "  - https://repo.anaconda.com/pkgs/main/noarch\n",
      "  - https://repo.anaconda.com/pkgs/r/win-64\n",
      "  - https://repo.anaconda.com/pkgs/r/noarch\n",
      "  - https://repo.anaconda.com/pkgs/msys2/win-64\n",
      "  - https://repo.anaconda.com/pkgs/msys2/noarch\n",
      "\n",
      "To search for alternate channels that may provide the conda package you're\n",
      "looking for, navigate to\n",
      "\n",
      "    https://anaconda.org\n",
      "\n",
      "and use the search bar at the top of the page.\n",
      "\n",
      "\n"
     ]
    }
   ],
   "source": [
    "%conda install langdetect\n",
    "import pandas as pd\n",
    "import numpy as np\n",
    "import re\n",
    "from langdetect import detect\n",
    "from ast import literal_eval"
   ]
  },
  {
   "cell_type": "code",
   "execution_count": 2,
   "metadata": {},
   "outputs": [
    {
     "name": "stdout",
     "output_type": "stream",
     "text": [
      "../Data Collection/data/collected/all data/data1.csv\n",
      "../Data Collection/data/collected/all data/data2.csv\n",
      "../Data Collection/data/collected/all data/data3.csv\n",
      "../Data Collection/data/collected/all data/data4.csv\n",
      "../Data Collection/data/collected/all data/data5.csv\n",
      "../Data Collection/data/collected/all data/data6.csv\n",
      "../Data Collection/data/collected/all data/data7.csv\n",
      "../Data Collection/data/collected/all data/data8.csv\n",
      "../Data Collection/data/collected/all data/data9.csv\n",
      "../Data Collection/data/collected/all data/data10.csv\n",
      "../Data Collection/data/collected/all data/data11.csv\n"
     ]
    }
   ],
   "source": [
    "data = pd.DataFrame()\n",
    "for i in range(1,12):\n",
    "    FILE = '../Data Collection/data/collected/all data/data' + str(i) + '.csv'\n",
    "    print(FILE)\n",
    "    data = pd.concat([data, pd.read_csv(FILE)])\n",
    "data = data.reset_index(drop = True)"
   ]
  },
  {
   "cell_type": "markdown",
   "metadata": {},
   "source": [
    "Now let us use the detect function from langdetect to see if these example strings are written in english or not."
   ]
  },
  {
   "cell_type": "code",
   "execution_count": 3,
   "metadata": {},
   "outputs": [],
   "source": [
    "examples = ['this is a sentence in english',\n",
    "            'welcome to the twilight zone', \n",
    "            \"'hola' is spanish for hello\",\n",
    "            \"おはようございます\"]"
   ]
  },
  {
   "cell_type": "code",
   "execution_count": 4,
   "metadata": {
    "scrolled": false
   },
   "outputs": [
    {
     "name": "stdout",
     "output_type": "stream",
     "text": [
      "en\n",
      "en\n",
      "en\n",
      "ja\n"
     ]
    }
   ],
   "source": [
    "for example in examples:\n",
    "    print(detect(example))"
   ]
  },
  {
   "cell_type": "markdown",
   "metadata": {},
   "source": [
    "Looks like the detect function works properly for detecting the language of these strings.\n",
    "Now, lets detect the language of each song in our dataset, and add that as a feature, and then check to see if the song is instrumental, and add that as a feature as well."
   ]
  },
  {
   "cell_type": "code",
   "execution_count": 5,
   "metadata": {
    "scrolled": true
   },
   "outputs": [],
   "source": [
    "def get_language(lyrics):\n",
    "    try:\n",
    "        return detect(lyrics)\n",
    "    except:\n",
    "        return 'NaN'\n",
    "\n",
    "data['language'] = data['lyrics'].apply(get_language)"
   ]
  },
  {
   "cell_type": "code",
   "execution_count": 6,
   "metadata": {},
   "outputs": [],
   "source": [
    "def is_instrumental(lyrics):\n",
    "    if len(lyrics.split(' ')) < 5 and 'instrumental' in lyrics.lower():\n",
    "        return True\n",
    "    return False\n",
    "\n",
    "data['instrumental'] = data['lyrics'].apply(is_instrumental)"
   ]
  },
  {
   "cell_type": "code",
   "execution_count": 7,
   "metadata": {},
   "outputs": [
    {
     "data": {
      "text/html": [
       "<div>\n",
       "<style scoped>\n",
       "    .dataframe tbody tr th:only-of-type {\n",
       "        vertical-align: middle;\n",
       "    }\n",
       "\n",
       "    .dataframe tbody tr th {\n",
       "        vertical-align: top;\n",
       "    }\n",
       "\n",
       "    .dataframe thead th {\n",
       "        text-align: right;\n",
       "    }\n",
       "</style>\n",
       "<table border=\"1\" class=\"dataframe\">\n",
       "  <thead>\n",
       "    <tr style=\"text-align: right;\">\n",
       "      <th></th>\n",
       "      <th>title</th>\n",
       "      <th>artist</th>\n",
       "      <th>lyrics</th>\n",
       "      <th>listens</th>\n",
       "      <th>hotness</th>\n",
       "      <th>genres</th>\n",
       "      <th>genius ID</th>\n",
       "      <th>spotify ID</th>\n",
       "      <th>language</th>\n",
       "      <th>instrumental</th>\n",
       "    </tr>\n",
       "  </thead>\n",
       "  <tbody>\n",
       "    <tr>\n",
       "      <th>0</th>\n",
       "      <td>Fast Cars</td>\n",
       "      <td>Craig David</td>\n",
       "      <td>\\n\\n[Chorus - Craig David]\\nFast cars\\nFast wo...</td>\n",
       "      <td>751624</td>\n",
       "      <td>28</td>\n",
       "      <td>['R&amp;B Genius', 'Rock Genius']</td>\n",
       "      <td>NaN</td>\n",
       "      <td>NaN</td>\n",
       "      <td>en</td>\n",
       "      <td>False</td>\n",
       "    </tr>\n",
       "    <tr>\n",
       "      <th>1</th>\n",
       "      <td>Watching The Rain</td>\n",
       "      <td>Scapegoat Wax</td>\n",
       "      <td>\\n\\n(Ya ya ya ya ya ya ya)\\nHello, hello, it's...</td>\n",
       "      <td>10681</td>\n",
       "      <td>6</td>\n",
       "      <td>['Pop Genius']</td>\n",
       "      <td>NaN</td>\n",
       "      <td>NaN</td>\n",
       "      <td>en</td>\n",
       "      <td>False</td>\n",
       "    </tr>\n",
       "    <tr>\n",
       "      <th>2</th>\n",
       "      <td>Infierno</td>\n",
       "      <td>Mesita</td>\n",
       "      <td>\\n\\n[Letra de \"Infierno\"]\\n\\n[Estribillo]\\nNo ...</td>\n",
       "      <td>628847</td>\n",
       "      <td>0</td>\n",
       "      <td>['Uruguay', 'Latin Urban', 'Trap', 'En Español...</td>\n",
       "      <td>NaN</td>\n",
       "      <td>NaN</td>\n",
       "      <td>es</td>\n",
       "      <td>False</td>\n",
       "    </tr>\n",
       "    <tr>\n",
       "      <th>3</th>\n",
       "      <td>Balaio</td>\n",
       "      <td>Itamar Assumpção</td>\n",
       "      <td>\\n\\nNega\\nO que que tem no balaio?\\nO que que ...</td>\n",
       "      <td>16495</td>\n",
       "      <td>10</td>\n",
       "      <td>['Brasil', 'Avant Garde', 'Em Português', 'Pop...</td>\n",
       "      <td>NaN</td>\n",
       "      <td>NaN</td>\n",
       "      <td>pt</td>\n",
       "      <td>False</td>\n",
       "    </tr>\n",
       "    <tr>\n",
       "      <th>4</th>\n",
       "      <td>Venganza</td>\n",
       "      <td>Ivy Queen</td>\n",
       "      <td>\\n\\n*coro*\\nYa me canse de tus cosas\\nHoy quie...</td>\n",
       "      <td>94916</td>\n",
       "      <td>0</td>\n",
       "      <td>['En Español', 'Pop Genius']</td>\n",
       "      <td>NaN</td>\n",
       "      <td>NaN</td>\n",
       "      <td>es</td>\n",
       "      <td>False</td>\n",
       "    </tr>\n",
       "  </tbody>\n",
       "</table>\n",
       "</div>"
      ],
      "text/plain": [
       "               title            artist  \\\n",
       "0          Fast Cars       Craig David   \n",
       "1  Watching The Rain     Scapegoat Wax   \n",
       "2           Infierno            Mesita   \n",
       "3             Balaio  Itamar Assumpção   \n",
       "4           Venganza         Ivy Queen   \n",
       "\n",
       "                                              lyrics  listens  hotness  \\\n",
       "0  \\n\\n[Chorus - Craig David]\\nFast cars\\nFast wo...   751624       28   \n",
       "1  \\n\\n(Ya ya ya ya ya ya ya)\\nHello, hello, it's...    10681        6   \n",
       "2  \\n\\n[Letra de \"Infierno\"]\\n\\n[Estribillo]\\nNo ...   628847        0   \n",
       "3  \\n\\nNega\\nO que que tem no balaio?\\nO que que ...    16495       10   \n",
       "4  \\n\\n*coro*\\nYa me canse de tus cosas\\nHoy quie...    94916        0   \n",
       "\n",
       "                                              genres  genius ID spotify ID  \\\n",
       "0                      ['R&B Genius', 'Rock Genius']        NaN        NaN   \n",
       "1                                     ['Pop Genius']        NaN        NaN   \n",
       "2  ['Uruguay', 'Latin Urban', 'Trap', 'En Español...        NaN        NaN   \n",
       "3  ['Brasil', 'Avant Garde', 'Em Português', 'Pop...        NaN        NaN   \n",
       "4                       ['En Español', 'Pop Genius']        NaN        NaN   \n",
       "\n",
       "  language  instrumental  \n",
       "0       en         False  \n",
       "1       en         False  \n",
       "2       es         False  \n",
       "3       pt         False  \n",
       "4       es         False  "
      ]
     },
     "execution_count": 7,
     "metadata": {},
     "output_type": "execute_result"
    }
   ],
   "source": [
    "data[:5]"
   ]
  },
  {
   "cell_type": "markdown",
   "metadata": {},
   "source": [
    "Now, we need to clean the lyric strings and reformat all the data types."
   ]
  },
  {
   "cell_type": "markdown",
   "metadata": {},
   "source": [
    "Not only will we have to replace \"\\n\"s and \"\\r\"s, but we will need to replace words found within parenthesis, parenthesis themselves, colons, exclamation points, periods, and other signs so that when we create our corpus, the words we extract are the same(\"corn.\" should be the same as \"corn!\"). Doing so will once again require using the str.replace() function. Reference: https://stackoverflow.com/questions/14596884/remove-text-between-and-in-python"
   ]
  },
  {
   "cell_type": "code",
   "execution_count": 8,
   "metadata": {},
   "outputs": [],
   "source": [
    "def clean_lyrics(lyrics):\n",
    "    return split_lyrics(remove_extranious(lyrics))\n",
    "\n",
    "def split_lyrics(lyrics):\n",
    "    lines = []\n",
    "    for line in lyrics.split('\\n'):\n",
    "        if line != '':\n",
    "            lines.append(line.strip())\n",
    "    return lines\n",
    "\n",
    "def remove_extranious(lyrics):\n",
    "    lyrics = re.sub(r'\\[.*?\\]', '', lyrics)\n",
    "    for character in ['\\r']:\n",
    "        lyrics = lyrics.replace(character, ' ')\n",
    "    for character in ['?','.','!',',','-',\"'\",'’','(',')','*','/','\"']:\n",
    "        lyrics = lyrics.replace(character, '')\n",
    "    return lyrics"
   ]
  },
  {
   "cell_type": "code",
   "execution_count": 9,
   "metadata": {
    "scrolled": true
   },
   "outputs": [
    {
     "name": "stdout",
     "output_type": "stream",
     "text": [
      "\n",
      "\n",
      "[Chorus - Craig David]\n",
      "Fast cars\n",
      "Fast women\n",
      "Speed bikes with the nitro in them\n",
      "Dangerous when driven\n",
      "Those are the type that I be feeling [x2]\n",
      "\n",
      "[Verse 1 - Craig David]\n",
      "Sitting there while I observe\n",
      "I like your lines I love your curves\n",
      "Checking out your bodywork\n",
      "How can I get with her\n",
      "You're the one that I want\n",
      "Do anything to turn you on\n",
      "Somebody please just pass the keys so you can take a ride with me\n",
      "\n",
      "[Pre-Chorus - Craig David]\n",
      "I'm on a mission\n",
      "First thing disarming your system\n",
      "Next thing slip the key in the ignition\n",
      "Just listen\n",
      "To the way that you purr at me you know you prefer the speed\n",
      "When your back starts dipping\n",
      "Wheel spinning when the gears start shifting\n",
      "I'm sticking til the turbo kicks in\n",
      "You know that I'm missing\n",
      "Got me moving so fast you got me missing the flash a 5.0\n",
      "\n",
      "[Chorus - Craig David]\n",
      "Fast cars\n",
      "Fast women\n",
      "Speed bikes with the nitro in them\n",
      "Dangerous when driven\n",
      "Those are the type that I be feeling [x2]\n",
      "\n",
      "[Verse 2 - Craig David]\n",
      "Feel the ride feel the rush\n",
      "The moment I tease your clutch\n",
      "Reacting to my every touch\n",
      "We're shifting down or tearing up\n",
      "I don't care where we go\n",
      "To burn you out's the end result\n",
      "You're dealing with a professional\n",
      "I'll spin your round just to let you know\n",
      "\n",
      "[Pre-Chorus - Craig David]\n",
      "I'm on a mission\n",
      "First thing disarming your system\n",
      "Next thing slip the key in the ignition\n",
      "Just listen\n",
      "To the way that you purr at me you know your as perverse as me\n",
      "When your back starts dipping\n",
      "And I'm unaware of the limits I'm hitting\n",
      "Blurred vision in a critical condition\n",
      "Could blow the transmission\n",
      "Got me moving so fast you got me missing the flash a 5.0\n",
      "\n",
      "[Chorus - Craig David]\n",
      "Fast cars\n",
      "Fast women\n",
      "Speed bikes with the nitro in them\n",
      "Dangerous when driven\n",
      "Those are the type that I be feeling [x2]\n",
      "\n",
      "[Verse 3 - Craig David]\n",
      "Body like a race car\n",
      "You got the curves like Jaguar\n",
      "Acceleration like a Yamaha\n",
      "I like the way you perform when I'm turning you on\n",
      "Feel it when I revving you\n",
      "Smoother than a Daimler\n",
      "You handle like a Lancia\n",
      "I like the way you perform when I'm turning you on\n",
      "\n",
      "[Chorus - Craig David]\n",
      "Fast cars\n",
      "Fast women\n",
      "Speed bikes with the nitro in them\n",
      "Dangerous when driven\n",
      "Those are the type that I be feeling [x4]\n",
      "\n",
      "(This stuff should stay...) [don’t keep this] won’t go\n"
     ]
    }
   ],
   "source": [
    "test_lyrics = data.loc[0]['lyrics'] + '(This stuff should stay...) [don’t keep this] won’t go'\n",
    "print(test_lyrics)"
   ]
  },
  {
   "cell_type": "code",
   "execution_count": 10,
   "metadata": {
    "scrolled": true
   },
   "outputs": [
    {
     "name": "stdout",
     "output_type": "stream",
     "text": [
      "['Fast cars', 'Fast women', 'Speed bikes with the nitro in them', 'Dangerous when driven', 'Those are the type that I be feeling', 'Sitting there while I observe', 'I like your lines I love your curves', 'Checking out your bodywork', 'How can I get with her', 'Youre the one that I want', 'Do anything to turn you on', 'Somebody please just pass the keys so you can take a ride with me', 'Im on a mission', 'First thing disarming your system', 'Next thing slip the key in the ignition', 'Just listen', 'To the way that you purr at me you know you prefer the speed', 'When your back starts dipping', 'Wheel spinning when the gears start shifting', 'Im sticking til the turbo kicks in', 'You know that Im missing', 'Got me moving so fast you got me missing the flash a 50', 'Fast cars', 'Fast women', 'Speed bikes with the nitro in them', 'Dangerous when driven', 'Those are the type that I be feeling', 'Feel the ride feel the rush', 'The moment I tease your clutch', 'Reacting to my every touch', 'Were shifting down or tearing up', 'I dont care where we go', 'To burn you outs the end result', 'Youre dealing with a professional', 'Ill spin your round just to let you know', 'Im on a mission', 'First thing disarming your system', 'Next thing slip the key in the ignition', 'Just listen', 'To the way that you purr at me you know your as perverse as me', 'When your back starts dipping', 'And Im unaware of the limits Im hitting', 'Blurred vision in a critical condition', 'Could blow the transmission', 'Got me moving so fast you got me missing the flash a 50', 'Fast cars', 'Fast women', 'Speed bikes with the nitro in them', 'Dangerous when driven', 'Those are the type that I be feeling', 'Body like a race car', 'You got the curves like Jaguar', 'Acceleration like a Yamaha', 'I like the way you perform when Im turning you on', 'Feel it when I revving you', 'Smoother than a Daimler', 'You handle like a Lancia', 'I like the way you perform when Im turning you on', 'Fast cars', 'Fast women', 'Speed bikes with the nitro in them', 'Dangerous when driven', 'Those are the type that I be feeling', 'This stuff should stay  wont go']\n"
     ]
    }
   ],
   "source": [
    "print(clean_lyrics(test_lyrics))"
   ]
  },
  {
   "cell_type": "code",
   "execution_count": 11,
   "metadata": {
    "scrolled": false
   },
   "outputs": [],
   "source": [
    "data['lyrics'] = data['lyrics'].apply(clean_lyrics)"
   ]
  },
  {
   "cell_type": "code",
   "execution_count": 12,
   "metadata": {},
   "outputs": [],
   "source": [
    "def get_lyrics_length(lyrics):\n",
    "    length = 0\n",
    "    for line in lyrics:\n",
    "        length += len(line.split(' '))\n",
    "    return length\n",
    "data['song length'] = data['lyrics'].apply(get_lyrics_length)"
   ]
  },
  {
   "cell_type": "code",
   "execution_count": 13,
   "metadata": {},
   "outputs": [],
   "source": [
    "def clean_genre(genres_string):\n",
    "    genres = literal_eval(genres_string)\n",
    "    genre_list = []\n",
    "    for genre in genres:\n",
    "        genre_list.append(genre.replace('Genius','').strip().lower())\n",
    "    return genre_list\n",
    "data['genres'] = data['genres'].apply(clean_genre)"
   ]
  },
  {
   "cell_type": "code",
   "execution_count": 14,
   "metadata": {},
   "outputs": [
    {
     "name": "stdout",
     "output_type": "stream",
     "text": [
      "We have in total 118709 datapoints\n",
      "We have 85829 English datapoints\n"
     ]
    },
    {
     "name": "stderr",
     "output_type": "stream",
     "text": [
      "C:\\Users\\TannerSims\\Anaconda3\\lib\\site-packages\\ipykernel_launcher.py:2: UserWarning: Boolean Series key will be reindexed to match DataFrame index.\n",
      "  \n"
     ]
    },
    {
     "data": {
      "text/html": [
       "<div>\n",
       "<style scoped>\n",
       "    .dataframe tbody tr th:only-of-type {\n",
       "        vertical-align: middle;\n",
       "    }\n",
       "\n",
       "    .dataframe tbody tr th {\n",
       "        vertical-align: top;\n",
       "    }\n",
       "\n",
       "    .dataframe thead th {\n",
       "        text-align: right;\n",
       "    }\n",
       "</style>\n",
       "<table border=\"1\" class=\"dataframe\">\n",
       "  <thead>\n",
       "    <tr style=\"text-align: right;\">\n",
       "      <th></th>\n",
       "      <th>title</th>\n",
       "      <th>artist</th>\n",
       "      <th>lyrics</th>\n",
       "      <th>listens</th>\n",
       "      <th>hotness</th>\n",
       "      <th>genres</th>\n",
       "      <th>genius ID</th>\n",
       "      <th>spotify ID</th>\n",
       "      <th>language</th>\n",
       "      <th>instrumental</th>\n",
       "      <th>song length</th>\n",
       "    </tr>\n",
       "  </thead>\n",
       "  <tbody>\n",
       "    <tr>\n",
       "      <th>0</th>\n",
       "      <td>Fast Cars</td>\n",
       "      <td>Craig David</td>\n",
       "      <td>[Fast cars, Fast women, Speed bikes with the n...</td>\n",
       "      <td>751624</td>\n",
       "      <td>28</td>\n",
       "      <td>[r&amp;b, rock]</td>\n",
       "      <td>NaN</td>\n",
       "      <td>NaN</td>\n",
       "      <td>en</td>\n",
       "      <td>False</td>\n",
       "      <td>379</td>\n",
       "    </tr>\n",
       "    <tr>\n",
       "      <th>1</th>\n",
       "      <td>Watching The Rain</td>\n",
       "      <td>Scapegoat Wax</td>\n",
       "      <td>[Ya ya ya ya ya ya ya, Hello hello its me agai...</td>\n",
       "      <td>10681</td>\n",
       "      <td>6</td>\n",
       "      <td>[pop]</td>\n",
       "      <td>NaN</td>\n",
       "      <td>NaN</td>\n",
       "      <td>en</td>\n",
       "      <td>False</td>\n",
       "      <td>360</td>\n",
       "    </tr>\n",
       "    <tr>\n",
       "      <th>2</th>\n",
       "      <td>Infierno</td>\n",
       "      <td>Mesita</td>\n",
       "      <td>[No sé lo que me estás haciendo, Con esa mirad...</td>\n",
       "      <td>628847</td>\n",
       "      <td>0</td>\n",
       "      <td>[uruguay, latin urban, trap, en español, latin...</td>\n",
       "      <td>NaN</td>\n",
       "      <td>NaN</td>\n",
       "      <td>es</td>\n",
       "      <td>False</td>\n",
       "      <td>418</td>\n",
       "    </tr>\n",
       "    <tr>\n",
       "      <th>3</th>\n",
       "      <td>Balaio</td>\n",
       "      <td>Itamar Assumpção</td>\n",
       "      <td>[Nega, O que que tem no balaio, O que que tem ...</td>\n",
       "      <td>16495</td>\n",
       "      <td>10</td>\n",
       "      <td>[brasil, avant garde, em português, pop]</td>\n",
       "      <td>NaN</td>\n",
       "      <td>NaN</td>\n",
       "      <td>pt</td>\n",
       "      <td>False</td>\n",
       "      <td>349</td>\n",
       "    </tr>\n",
       "    <tr>\n",
       "      <th>4</th>\n",
       "      <td>Venganza</td>\n",
       "      <td>Ivy Queen</td>\n",
       "      <td>[coro, Ya me canse de tus cosas, Hoy quiero ba...</td>\n",
       "      <td>94916</td>\n",
       "      <td>0</td>\n",
       "      <td>[en español, pop]</td>\n",
       "      <td>NaN</td>\n",
       "      <td>NaN</td>\n",
       "      <td>es</td>\n",
       "      <td>False</td>\n",
       "      <td>290</td>\n",
       "    </tr>\n",
       "  </tbody>\n",
       "</table>\n",
       "</div>"
      ],
      "text/plain": [
       "               title            artist  \\\n",
       "0          Fast Cars       Craig David   \n",
       "1  Watching The Rain     Scapegoat Wax   \n",
       "2           Infierno            Mesita   \n",
       "3             Balaio  Itamar Assumpção   \n",
       "4           Venganza         Ivy Queen   \n",
       "\n",
       "                                              lyrics  listens  hotness  \\\n",
       "0  [Fast cars, Fast women, Speed bikes with the n...   751624       28   \n",
       "1  [Ya ya ya ya ya ya ya, Hello hello its me agai...    10681        6   \n",
       "2  [No sé lo que me estás haciendo, Con esa mirad...   628847        0   \n",
       "3  [Nega, O que que tem no balaio, O que que tem ...    16495       10   \n",
       "4  [coro, Ya me canse de tus cosas, Hoy quiero ba...    94916        0   \n",
       "\n",
       "                                              genres  genius ID spotify ID  \\\n",
       "0                                        [r&b, rock]        NaN        NaN   \n",
       "1                                              [pop]        NaN        NaN   \n",
       "2  [uruguay, latin urban, trap, en español, latin...        NaN        NaN   \n",
       "3           [brasil, avant garde, em português, pop]        NaN        NaN   \n",
       "4                                  [en español, pop]        NaN        NaN   \n",
       "\n",
       "  language  instrumental  song length  \n",
       "0       en         False          379  \n",
       "1       en         False          360  \n",
       "2       es         False          418  \n",
       "3       pt         False          349  \n",
       "4       es         False          290  "
      ]
     },
     "execution_count": 14,
     "metadata": {},
     "output_type": "execute_result"
    }
   ],
   "source": [
    "print('We have in total ' + str(len(data)) + ' datapoints')\n",
    "print('We have ' + str(len(data[data['instrumental'] == False][data['language'] == 'en'])) + ' English datapoints')\n",
    "data[:5]"
   ]
  },
  {
   "cell_type": "markdown",
   "metadata": {},
   "source": [
    "The data looks great, so lets export to csv for use in the next steps. We'll be saving both the entire dataset as well as the filtered dataset."
   ]
  },
  {
   "cell_type": "code",
   "execution_count": 16,
   "metadata": {},
   "outputs": [
    {
     "name": "stderr",
     "output_type": "stream",
     "text": [
      "C:\\Users\\TannerSims\\Anaconda3\\lib\\site-packages\\ipykernel_launcher.py:2: UserWarning: Boolean Series key will be reindexed to match DataFrame index.\n",
      "  \n"
     ]
    }
   ],
   "source": [
    "data.to_csv('entire_clean.csv', index = False)\n",
    "data[data['instrumental'] == False][data['language'] == 'en'].to_csv('english_clean.csv', index = False)"
   ]
  }
 ],
 "metadata": {
  "kernelspec": {
   "display_name": "Python 3",
   "language": "python",
   "name": "python3"
  },
  "language_info": {
   "codemirror_mode": {
    "name": "ipython",
    "version": 3
   },
   "file_extension": ".py",
   "mimetype": "text/x-python",
   "name": "python",
   "nbconvert_exporter": "python",
   "pygments_lexer": "ipython3",
   "version": "3.7.6"
  }
 },
 "nbformat": 4,
 "nbformat_minor": 2
}
